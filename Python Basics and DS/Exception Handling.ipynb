{
 "cells": [
  {
   "cell_type": "markdown",
   "metadata": {},
   "source": [
    "## Python Exception Handling"
   ]
  },
  {
   "cell_type": "code",
   "execution_count": 1,
   "metadata": {},
   "outputs": [
    {
     "name": "stdout",
     "output_type": "stream",
     "text": [
      "Some problem may have occured\n"
     ]
    }
   ],
   "source": [
    "try:\n",
    "    # Code block where exception can occur\n",
    "    a=b\n",
    "except:\n",
    "    print('Some problem may have occured')"
   ]
  },
  {
   "cell_type": "code",
   "execution_count": 2,
   "metadata": {},
   "outputs": [
    {
     "name": "stdout",
     "output_type": "stream",
     "text": [
      "name 'b' is not defined\n"
     ]
    }
   ],
   "source": [
    "try:\n",
    "    # Code block where exception can occur\n",
    "    a=b\n",
    "except Exception as ex:\n",
    "    print(ex)"
   ]
  },
  {
   "cell_type": "code",
   "execution_count": 4,
   "metadata": {},
   "outputs": [
    {
     "name": "stdout",
     "output_type": "stream",
     "text": [
      "The user has not defined the variable\n"
     ]
    }
   ],
   "source": [
    "try:\n",
    "    # Code block where exception can occur\n",
    "    a=b\n",
    "except NameError:\n",
    "    print(\"The user has not defined the variable\")\n",
    "\n",
    "except Exception as ex:\n",
    "    print(ex)"
   ]
  },
  {
   "cell_type": "code",
   "execution_count": 5,
   "metadata": {},
   "outputs": [
    {
     "name": "stdout",
     "output_type": "stream",
     "text": [
      "unsupported operand type(s) for +: 'int' and 'str'\n"
     ]
    }
   ],
   "source": [
    "try:\n",
    "    # Code block where exception can occur\n",
    "    a=1\n",
    "    b='s'\n",
    "    c=a+b\n",
    "except NameError:\n",
    "    print(\"The user has not defined the variable\")\n",
    "\n",
    "except Exception as ex:\n",
    "    print(ex)"
   ]
  },
  {
   "cell_type": "code",
   "execution_count": 6,
   "metadata": {},
   "outputs": [
    {
     "name": "stdout",
     "output_type": "stream",
     "text": [
      "Try to make the data type similar\n"
     ]
    }
   ],
   "source": [
    "try:\n",
    "    # Code block where exception can occur\n",
    "    a=1\n",
    "    b='s'\n",
    "    c=a+b\n",
    "except NameError:\n",
    "    print(\"The user has not defined the variable\")\n",
    "\n",
    "except TypeError:\n",
    "    print(\"Try to make the data type similar\")\n",
    "    \n",
    "except Exception as ex:\n",
    "    print(ex)"
   ]
  },
  {
   "cell_type": "code",
   "execution_count": 15,
   "metadata": {},
   "outputs": [
    {
     "name": "stdout",
     "output_type": "stream",
     "text": [
      "Enter the first number : 12\n",
      "Enter the second number : 4\n",
      "3.0\n",
      "48\n",
      "16\n"
     ]
    }
   ],
   "source": [
    "try:\n",
    "    # Code block where exception can occur\n",
    "    a=int(input('Enter the first number : '))\n",
    "    b=int(input('Enter the second number : '))\n",
    "    c=a/b\n",
    "    d=a*b\n",
    "    e=a+b\n",
    "    print(c)\n",
    "    print(d)\n",
    "    print(e)\n",
    "except NameError:\n",
    "    print(\"The user has not defined the variable\")\n",
    "\n",
    "except ZeroDivisionError:\n",
    "    print('Please provide number greater than 0')\n",
    "    \n",
    "except TypeError:\n",
    "    print(\"Try to make the data type similar\")\n",
    "    \n",
    "except Exception as ex:\n",
    "    print(ex)"
   ]
  },
  {
   "cell_type": "code",
   "execution_count": 16,
   "metadata": {},
   "outputs": [
    {
     "name": "stdout",
     "output_type": "stream",
     "text": [
      "Enter the first number : 12\n",
      "Enter the second number : 0\n",
      "Please provide number greater than 0\n"
     ]
    }
   ],
   "source": [
    "try:\n",
    "    # Code block where exception can occur\n",
    "    a=int(input('Enter the first number : '))\n",
    "    b=int(input('Enter the second number : '))\n",
    "    c=a/b\n",
    "    d=a*b\n",
    "    e=a+b\n",
    "    print(c)\n",
    "    print(d)\n",
    "    print(e)\n",
    "except NameError:\n",
    "    print(\"The user has not defined the variable\")\n",
    "\n",
    "except ZeroDivisionError:\n",
    "    print('Please provide number greater than 0')\n",
    "    \n",
    "except TypeError:\n",
    "    print(\"Try to make the data type similar\")\n",
    "\n",
    "# It is important to write the generic exception handling at the last to catch any errors that could\n",
    "# not be caught by the above exceptions\n",
    "    \n",
    "except Exception as ex:\n",
    "    print(ex)"
   ]
  },
  {
   "cell_type": "code",
   "execution_count": 17,
   "metadata": {},
   "outputs": [
    {
     "name": "stdout",
     "output_type": "stream",
     "text": [
      "Enter the first number : 100\n",
      "Enter the second number : 25\n",
      "4.0\n",
      "2500\n",
      "125\n"
     ]
    }
   ],
   "source": [
    "try:\n",
    "    # Code block where exception can occur\n",
    "    a=int(input('Enter the first number : '))\n",
    "    b=int(input('Enter the second number : '))\n",
    "    c=a/b\n",
    "    d=a*b\n",
    "    e=a+b\n",
    "\n",
    "except NameError:\n",
    "    print(\"The user has not defined the variable\")\n",
    "\n",
    "except ZeroDivisionError:\n",
    "    print('Please provide number greater than 0')\n",
    "    \n",
    "except TypeError:\n",
    "    print(\"Try to make the data type similar\")\n",
    "    \n",
    "except Exception as ex:\n",
    "    print(ex)\n",
    "\n",
    "# If the exception is not triggered and you need to run any other code you can put it in else part.\n",
    "# But if the exception is getting handled then your else block will not be executed.\n",
    "\n",
    "else:\n",
    "    print(c)\n",
    "    print(d)\n",
    "    print(e)\n"
   ]
  },
  {
   "cell_type": "code",
   "execution_count": 18,
   "metadata": {},
   "outputs": [
    {
     "name": "stdout",
     "output_type": "stream",
     "text": [
      "Enter the first number : 12\n",
      "Enter the second number : 4\n",
      "3.0\n",
      "The program execution is complete\n"
     ]
    }
   ],
   "source": [
    "try:\n",
    "    # Code block where exception can occur\n",
    "    a=int(input('Enter the first number : '))\n",
    "    b=int(input('Enter the second number : '))\n",
    "    c=a/b\n",
    "\n",
    "except NameError:\n",
    "    print(\"The user has not defined the variable\")\n",
    "\n",
    "except ZeroDivisionError:\n",
    "    print('Please provide number greater than 0')\n",
    "    \n",
    "except TypeError:\n",
    "    print(\"Try to make the data type similar\")\n",
    "    \n",
    "except Exception as ex:\n",
    "    print(ex)\n",
    "\n",
    "else:\n",
    "    print(c)\n",
    "\n",
    "finally:\n",
    "    print('The program execution is complete')\n"
   ]
  },
  {
   "cell_type": "code",
   "execution_count": 19,
   "metadata": {},
   "outputs": [
    {
     "name": "stdout",
     "output_type": "stream",
     "text": [
      "Enter the first number : 12\n",
      "Enter the second number : 0\n",
      "Please provide number greater than 0\n",
      "The program execution is complete\n"
     ]
    }
   ],
   "source": [
    "try:\n",
    "    # Code block where exception can occur\n",
    "    a=int(input('Enter the first number : '))\n",
    "    b=int(input('Enter the second number : '))\n",
    "    c=a/b\n",
    "\n",
    "except NameError:\n",
    "    print(\"The user has not defined the variable\")\n",
    "\n",
    "except ZeroDivisionError:\n",
    "    print('Please provide number greater than 0')\n",
    "    \n",
    "except TypeError:\n",
    "    print(\"Try to make the data type similar\")\n",
    "    \n",
    "except Exception as ex:\n",
    "    print(ex)\n",
    "\n",
    "else:\n",
    "    print(c)\n",
    "\n",
    "# Notice that the finally block is getting executed in both the scenarios\n",
    "# When you catch the exception, and even if you don't have any exception\n",
    "# But else block will only get executed in case you do not have any exceptions\n",
    "\n",
    "finally:\n",
    "    print('The program execution is complete')\n"
   ]
  },
  {
   "cell_type": "markdown",
   "metadata": {},
   "source": [
    "#### Example where finally block is useful -\n",
    "\n",
    "#### 1. Consider you need to connect to a database.\n",
    "\n",
    "#### 2. You can put in your database opening connection code in the try block.\n",
    "\n",
    "#### 3. Suppose an exception occurs during any database operation and your exception is caught.\n",
    "\n",
    "#### 4. Then you need to put the code to close the database connection in the finally block, as it will be executed no matter what happens.\n",
    "\n",
    "#### 5. You cannot put your database connection closing code in the else part, as that will get executed only when your program does not throw any exceptions."
   ]
  },
  {
   "cell_type": "code",
   "execution_count": null,
   "metadata": {},
   "outputs": [],
   "source": []
  },
  {
   "cell_type": "markdown",
   "metadata": {},
   "source": [
    "## Custom Exception"
   ]
  },
  {
   "cell_type": "code",
   "execution_count": 20,
   "metadata": {},
   "outputs": [],
   "source": [
    "class Error(Exception):\n",
    "    pass\n",
    "\n",
    "\n",
    "class dobException(Error):\n",
    "    pass"
   ]
  },
  {
   "cell_type": "code",
   "execution_count": 43,
   "metadata": {},
   "outputs": [
    {
     "name": "stdout",
     "output_type": "stream",
     "text": [
      "Enter your year of birth : 1996\n",
      "The age is valid. You can apply for the exam.\n"
     ]
    }
   ],
   "source": [
    "year=int(input(\"Enter your year of birth : \"))\n",
    "age=2021-year\n",
    "try:\n",
    "    if age<=30 and age>20:\n",
    "        print('The age is valid. You can apply for the exam.')\n",
    "    else:\n",
    "        raise dobException\n",
    "\n",
    "except dobException:\n",
    "    print(\"The age is not within the range. You cannot apply for the exam.\")"
   ]
  },
  {
   "cell_type": "code",
   "execution_count": 44,
   "metadata": {},
   "outputs": [
    {
     "name": "stdout",
     "output_type": "stream",
     "text": [
      "Enter your year of birth : 1990\n",
      "The age is not within the range. You cannot apply for the exam.\n"
     ]
    }
   ],
   "source": [
    "year=int(input(\"Enter your year of birth : \"))\n",
    "age=2021-year\n",
    "try:\n",
    "    if age<=30 and age>20:\n",
    "        print('The age is valid. You can apply for the exam.')\n",
    "    else:\n",
    "        raise dobException\n",
    "\n",
    "except dobException:\n",
    "    print(\"The age is not within the range. You cannot apply for the exam.\")"
   ]
  },
  {
   "cell_type": "code",
   "execution_count": null,
   "metadata": {},
   "outputs": [],
   "source": []
  }
 ],
 "metadata": {
  "kernelspec": {
   "display_name": "Python 3",
   "language": "python",
   "name": "python3"
  },
  "language_info": {
   "codemirror_mode": {
    "name": "ipython",
    "version": 3
   },
   "file_extension": ".py",
   "mimetype": "text/x-python",
   "name": "python",
   "nbconvert_exporter": "python",
   "pygments_lexer": "ipython3",
   "version": "3.8.5"
  }
 },
 "nbformat": 4,
 "nbformat_minor": 4
}
